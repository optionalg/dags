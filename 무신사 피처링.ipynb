{
 "cells": [
  {
   "cell_type": "code",
   "execution_count": 2,
   "metadata": {
    "scrolled": true
   },
   "outputs": [],
   "source": [
    "import pandas as np\n",
    "import pandas as pd\n",
    "import os, glob"
   ]
  },
  {
   "cell_type": "code",
   "execution_count": 3,
   "metadata": {},
   "outputs": [],
   "source": [
    "# 무신사 리뷰 파일 가져오기\n",
    "file_list = glob.glob(os.path.join('./reviews/','musinsa_*_reviews.csv'))"
   ]
  },
  {
   "cell_type": "code",
   "execution_count": 69,
   "metadata": {},
   "outputs": [
    {
     "data": {
      "text/html": [
       "<div>\n",
       "<style scoped>\n",
       "    .dataframe tbody tr th:only-of-type {\n",
       "        vertical-align: middle;\n",
       "    }\n",
       "\n",
       "    .dataframe tbody tr th {\n",
       "        vertical-align: top;\n",
       "    }\n",
       "\n",
       "    .dataframe thead th {\n",
       "        text-align: right;\n",
       "    }\n",
       "</style>\n",
       "<table border=\"1\" class=\"dataframe\">\n",
       "  <thead>\n",
       "    <tr style=\"text-align: right;\">\n",
       "      <th></th>\n",
       "      <th>review_date</th>\n",
       "      <th>modelname</th>\n",
       "      <th>buy_size</th>\n",
       "      <th>sizefeel</th>\n",
       "      <th>footwidthfeel</th>\n",
       "      <th>feeling</th>\n",
       "      <th>review</th>\n",
       "    </tr>\n",
       "  </thead>\n",
       "  <tbody>\n",
       "    <tr>\n",
       "      <th>0</th>\n",
       "      <td>2020.10.09 21:35</td>\n",
       "      <td>375 웰던 더비 구두 루시블랙</td>\n",
       "      <td>260\\n추가안함 구매</td>\n",
       "      <td>사이즈 : 보통이에요</td>\n",
       "      <td>발볼 : 넓어요</td>\n",
       "      <td>착화감 : 편안해요</td>\n",
       "      <td>너무 깔끔하고 예뻐요 ㅎ\\n신으면 완전 편해욕 운동화마냥</td>\n",
       "    </tr>\n",
       "    <tr>\n",
       "      <th>1</th>\n",
       "      <td>2020.10.09 18:17</td>\n",
       "      <td>375 웰던 더비 구두 루시블랙</td>\n",
       "      <td>260\\n추가안함 구매</td>\n",
       "      <td>사이즈 : 보통이에요</td>\n",
       "      <td>발볼 : 넓어요</td>\n",
       "      <td>착화감 : 편안해요</td>\n",
       "      <td>동생한테 선물했는데 더비슈즈 처음 신어보는건데 깔끔하고 이쁘다고 했어요!</td>\n",
       "    </tr>\n",
       "    <tr>\n",
       "      <th>2</th>\n",
       "      <td>2020.10.09 18:15</td>\n",
       "      <td>375 웰던 더비 구두 루시블랙</td>\n",
       "      <td>270\\n추가안함 구매</td>\n",
       "      <td>사이즈 : 보통이에요</td>\n",
       "      <td>발볼 : 넓어요</td>\n",
       "      <td>착화감 : 편안해요</td>\n",
       "      <td>예전부터 계속 사야지 사야지했는데 드디어 구매했습니다 발 편하고 좋아요 ㅎㅎ</td>\n",
       "    </tr>\n",
       "    <tr>\n",
       "      <th>3</th>\n",
       "      <td>2020.10.09 14:04</td>\n",
       "      <td>375 웰던 더비 구두 루시블랙</td>\n",
       "      <td>270\\n이퀄라이저 삭스 블랙 2켤레(+4,800원) 구매</td>\n",
       "      <td>사이즈 : 보통이에요</td>\n",
       "      <td>발볼 : 넓어요</td>\n",
       "      <td>착화감 : 편안해요</td>\n",
       "      <td>가죽이라 좀 오래 길들여야겠다 생각했는데\\n이틀까진 발이 좀 아프더니\\n3일째부턴 ...</td>\n",
       "    </tr>\n",
       "    <tr>\n",
       "      <th>4</th>\n",
       "      <td>2020.10.09 11:04</td>\n",
       "      <td>375 웰던 더비 구두 루시블랙</td>\n",
       "      <td>270\\n추가안함 구매</td>\n",
       "      <td>사이즈 : 보통이에요</td>\n",
       "      <td>발볼 : 넓어요</td>\n",
       "      <td>착화감 : 편안해요</td>\n",
       "      <td>겉은 가죽이 아니라 싼티 조금 나네요. 그냥 막 신기 좋은둣 해요. 발볼은 저가 넓...</td>\n",
       "    </tr>\n",
       "  </tbody>\n",
       "</table>\n",
       "</div>"
      ],
      "text/plain": [
       "        review_date          modelname                          buy_size  \\\n",
       "0  2020.10.09 21:35  375 웰던 더비 구두 루시블랙                      260\\n추가안함 구매   \n",
       "1  2020.10.09 18:17  375 웰던 더비 구두 루시블랙                      260\\n추가안함 구매   \n",
       "2  2020.10.09 18:15  375 웰던 더비 구두 루시블랙                      270\\n추가안함 구매   \n",
       "3  2020.10.09 14:04  375 웰던 더비 구두 루시블랙  270\\n이퀄라이저 삭스 블랙 2켤레(+4,800원) 구매   \n",
       "4  2020.10.09 11:04  375 웰던 더비 구두 루시블랙                      270\\n추가안함 구매   \n",
       "\n",
       "      sizefeel footwidthfeel     feeling  \\\n",
       "0  사이즈 : 보통이에요      발볼 : 넓어요  착화감 : 편안해요   \n",
       "1  사이즈 : 보통이에요      발볼 : 넓어요  착화감 : 편안해요   \n",
       "2  사이즈 : 보통이에요      발볼 : 넓어요  착화감 : 편안해요   \n",
       "3  사이즈 : 보통이에요      발볼 : 넓어요  착화감 : 편안해요   \n",
       "4  사이즈 : 보통이에요      발볼 : 넓어요  착화감 : 편안해요   \n",
       "\n",
       "                                              review  \n",
       "0                    너무 깔끔하고 예뻐요 ㅎ\\n신으면 완전 편해욕 운동화마냥  \n",
       "1           동생한테 선물했는데 더비슈즈 처음 신어보는건데 깔끔하고 이쁘다고 했어요!  \n",
       "2         예전부터 계속 사야지 사야지했는데 드디어 구매했습니다 발 편하고 좋아요 ㅎㅎ  \n",
       "3  가죽이라 좀 오래 길들여야겠다 생각했는데\\n이틀까진 발이 좀 아프더니\\n3일째부턴 ...  \n",
       "4  겉은 가죽이 아니라 싼티 조금 나네요. 그냥 막 신기 좋은둣 해요. 발볼은 저가 넓...  "
      ]
     },
     "execution_count": 69,
     "metadata": {},
     "output_type": "execute_result"
    }
   ],
   "source": [
    "# 하나의 데이터 프레임으로 제작\n",
    "df_list = []\n",
    "for file in file_list:\n",
    "    tmp_df = pd.read_csv(file)\n",
    "    df_list.append(tmp_df)\n",
    "\n",
    "musinsa_df = pd.concat(df_list, axis=0, ignore_index=True)\n",
    "musinsa_df.head()"
   ]
  },
  {
   "cell_type": "code",
   "execution_count": 70,
   "metadata": {},
   "outputs": [
    {
     "name": "stdout",
     "output_type": "stream",
     "text": [
      "<class 'pandas.core.frame.DataFrame'>\n",
      "RangeIndex: 528355 entries, 0 to 528354\n",
      "Data columns (total 7 columns):\n",
      " #   Column         Non-Null Count   Dtype \n",
      "---  ------         --------------   ----- \n",
      " 0   review_date    528355 non-null  object\n",
      " 1   modelname      528355 non-null  object\n",
      " 2   buy_size       528354 non-null  object\n",
      " 3   sizefeel       528355 non-null  object\n",
      " 4   footwidthfeel  528355 non-null  object\n",
      " 5   feeling        528355 non-null  object\n",
      " 6   review         528349 non-null  object\n",
      "dtypes: object(7)\n",
      "memory usage: 28.2+ MB\n"
     ]
    }
   ],
   "source": [
    "musinsa_df.info()"
   ]
  },
  {
   "cell_type": "code",
   "execution_count": 71,
   "metadata": {},
   "outputs": [
    {
     "name": "stdout",
     "output_type": "stream",
     "text": [
      "<class 'pandas.core.frame.DataFrame'>\n",
      "Int64Index: 528348 entries, 0 to 528354\n",
      "Data columns (total 7 columns):\n",
      " #   Column         Non-Null Count   Dtype \n",
      "---  ------         --------------   ----- \n",
      " 0   review_date    528348 non-null  object\n",
      " 1   modelname      528348 non-null  object\n",
      " 2   buy_size       528348 non-null  object\n",
      " 3   sizefeel       528348 non-null  object\n",
      " 4   footwidthfeel  528348 non-null  object\n",
      " 5   feeling        528348 non-null  object\n",
      " 6   review         528348 non-null  object\n",
      "dtypes: object(7)\n",
      "memory usage: 32.2+ MB\n"
     ]
    }
   ],
   "source": [
    "# NaN 제거\n",
    "musinsa_df.dropna(inplace=True)\n",
    "musinsa_df.info()"
   ]
  },
  {
   "cell_type": "code",
   "execution_count": 12,
   "metadata": {},
   "outputs": [
    {
     "data": {
      "text/plain": [
       "사이즈 : 보통이에요    439351\n",
       "사이즈 : 커요        62945\n",
       "사이즈 : 작아요       26059\n",
       "Name: sizefeel, dtype: int64"
      ]
     },
     "execution_count": 12,
     "metadata": {},
     "output_type": "execute_result"
    }
   ],
   "source": [
    "musinsa_df['sizefeel'].value_counts()"
   ]
  },
  {
   "cell_type": "code",
   "execution_count": 13,
   "metadata": {},
   "outputs": [
    {
     "data": {
      "text/plain": [
       "발볼 : 보통이에요    441070\n",
       "발볼 : 넓어요       52713\n",
       "발볼 : 좁아요       34572\n",
       "Name: footwidthfeel, dtype: int64"
      ]
     },
     "execution_count": 13,
     "metadata": {},
     "output_type": "execute_result"
    }
   ],
   "source": [
    "musinsa_df['footwidthfeel'].value_counts()"
   ]
  },
  {
   "cell_type": "code",
   "execution_count": 15,
   "metadata": {},
   "outputs": [
    {
     "data": {
      "text/plain": [
       "착화감 : 적당해요    310528\n",
       "착화감 : 편안해요    186570\n",
       "착화감 : 딱딱해요     31257\n",
       "Name: feeling, dtype: int64"
      ]
     },
     "execution_count": 15,
     "metadata": {},
     "output_type": "execute_result"
    }
   ],
   "source": [
    "musinsa_df['feeling'].value_counts()"
   ]
  },
  {
   "cell_type": "markdown",
   "metadata": {},
   "source": [
    "# 발볼, 사이즈, 착화감 피처링"
   ]
  },
  {
   "cell_type": "code",
   "execution_count": 26,
   "metadata": {},
   "outputs": [],
   "source": [
    "import re"
   ]
  },
  {
   "cell_type": "code",
   "execution_count": 34,
   "metadata": {},
   "outputs": [],
   "source": [
    "def data_featuring(feel):\n",
    "    cat = 0\n",
    "    if feel[:1] == '사':\n",
    "        if re.search('보', feel) : cat = 0\n",
    "        elif re.search('커', feel) : cat = 1\n",
    "        else : cat = -1\n",
    "        return cat\n",
    "    \n",
    "    if feel[:1] == '발':\n",
    "        if re.search('보', feel) : cat = 0\n",
    "        elif re.search('넓', feel) : cat = 1\n",
    "        else : cat = -1\n",
    "        return cat\n",
    "    \n",
    "    if feel[:1] == '착':\n",
    "        if re.search('적', feel) : cat = 0\n",
    "        elif re.search('편', feel) : cat = 1\n",
    "        else : cat = -1\n",
    "        return cat\n",
    "        "
   ]
  },
  {
   "cell_type": "code",
   "execution_count": 81,
   "metadata": {},
   "outputs": [],
   "source": [
    "musinsa_df['feeling'] = musinsa_df['feeling'].apply(lambda x : data_featuring(x))"
   ]
  },
  {
   "cell_type": "code",
   "execution_count": 82,
   "metadata": {},
   "outputs": [],
   "source": [
    "musinsa_df['footwidthfeel'] = musinsa_df['footwidthfeel'].apply(lambda x : data_featuring(x))"
   ]
  },
  {
   "cell_type": "code",
   "execution_count": 83,
   "metadata": {},
   "outputs": [],
   "source": [
    "musinsa_df['sizefeel'] = musinsa_df['sizefeel'].apply(lambda x : data_featuring(x))"
   ]
  },
  {
   "cell_type": "code",
   "execution_count": 84,
   "metadata": {},
   "outputs": [],
   "source": [
    "musinsa_df.drop(['review_date', 'buy_size'], axis=1, inplace=True)"
   ]
  },
  {
   "cell_type": "code",
   "execution_count": 85,
   "metadata": {},
   "outputs": [
    {
     "data": {
      "text/html": [
       "<div>\n",
       "<style scoped>\n",
       "    .dataframe tbody tr th:only-of-type {\n",
       "        vertical-align: middle;\n",
       "    }\n",
       "\n",
       "    .dataframe tbody tr th {\n",
       "        vertical-align: top;\n",
       "    }\n",
       "\n",
       "    .dataframe thead th {\n",
       "        text-align: right;\n",
       "    }\n",
       "</style>\n",
       "<table border=\"1\" class=\"dataframe\">\n",
       "  <thead>\n",
       "    <tr style=\"text-align: right;\">\n",
       "      <th></th>\n",
       "      <th>modelname</th>\n",
       "      <th>sizefeel</th>\n",
       "      <th>footwidthfeel</th>\n",
       "      <th>feeling</th>\n",
       "      <th>review</th>\n",
       "    </tr>\n",
       "  </thead>\n",
       "  <tbody>\n",
       "    <tr>\n",
       "      <th>0</th>\n",
       "      <td>375 웰던 더비 구두 루시블랙</td>\n",
       "      <td>0</td>\n",
       "      <td>1</td>\n",
       "      <td>1</td>\n",
       "      <td>너무 깔끔하고 예뻐요 ㅎ\\n신으면 완전 편해욕 운동화마냥</td>\n",
       "    </tr>\n",
       "    <tr>\n",
       "      <th>1</th>\n",
       "      <td>375 웰던 더비 구두 루시블랙</td>\n",
       "      <td>0</td>\n",
       "      <td>1</td>\n",
       "      <td>1</td>\n",
       "      <td>동생한테 선물했는데 더비슈즈 처음 신어보는건데 깔끔하고 이쁘다고 했어요!</td>\n",
       "    </tr>\n",
       "    <tr>\n",
       "      <th>2</th>\n",
       "      <td>375 웰던 더비 구두 루시블랙</td>\n",
       "      <td>0</td>\n",
       "      <td>1</td>\n",
       "      <td>1</td>\n",
       "      <td>예전부터 계속 사야지 사야지했는데 드디어 구매했습니다 발 편하고 좋아요 ㅎㅎ</td>\n",
       "    </tr>\n",
       "    <tr>\n",
       "      <th>3</th>\n",
       "      <td>375 웰던 더비 구두 루시블랙</td>\n",
       "      <td>0</td>\n",
       "      <td>1</td>\n",
       "      <td>1</td>\n",
       "      <td>가죽이라 좀 오래 길들여야겠다 생각했는데\\n이틀까진 발이 좀 아프더니\\n3일째부턴 ...</td>\n",
       "    </tr>\n",
       "    <tr>\n",
       "      <th>4</th>\n",
       "      <td>375 웰던 더비 구두 루시블랙</td>\n",
       "      <td>0</td>\n",
       "      <td>1</td>\n",
       "      <td>1</td>\n",
       "      <td>겉은 가죽이 아니라 싼티 조금 나네요. 그냥 막 신기 좋은둣 해요. 발볼은 저가 넓...</td>\n",
       "    </tr>\n",
       "  </tbody>\n",
       "</table>\n",
       "</div>"
      ],
      "text/plain": [
       "           modelname  sizefeel  footwidthfeel  feeling  \\\n",
       "0  375 웰던 더비 구두 루시블랙         0              1        1   \n",
       "1  375 웰던 더비 구두 루시블랙         0              1        1   \n",
       "2  375 웰던 더비 구두 루시블랙         0              1        1   \n",
       "3  375 웰던 더비 구두 루시블랙         0              1        1   \n",
       "4  375 웰던 더비 구두 루시블랙         0              1        1   \n",
       "\n",
       "                                              review  \n",
       "0                    너무 깔끔하고 예뻐요 ㅎ\\n신으면 완전 편해욕 운동화마냥  \n",
       "1           동생한테 선물했는데 더비슈즈 처음 신어보는건데 깔끔하고 이쁘다고 했어요!  \n",
       "2         예전부터 계속 사야지 사야지했는데 드디어 구매했습니다 발 편하고 좋아요 ㅎㅎ  \n",
       "3  가죽이라 좀 오래 길들여야겠다 생각했는데\\n이틀까진 발이 좀 아프더니\\n3일째부턴 ...  \n",
       "4  겉은 가죽이 아니라 싼티 조금 나네요. 그냥 막 신기 좋은둣 해요. 발볼은 저가 넓...  "
      ]
     },
     "execution_count": 85,
     "metadata": {},
     "output_type": "execute_result"
    }
   ],
   "source": [
    "musinsa_df.head()"
   ]
  },
  {
   "cell_type": "code",
   "execution_count": 110,
   "metadata": {},
   "outputs": [
    {
     "data": {
      "text/html": [
       "<div>\n",
       "<style scoped>\n",
       "    .dataframe tbody tr th:only-of-type {\n",
       "        vertical-align: middle;\n",
       "    }\n",
       "\n",
       "    .dataframe tbody tr th {\n",
       "        vertical-align: top;\n",
       "    }\n",
       "\n",
       "    .dataframe thead th {\n",
       "        text-align: right;\n",
       "    }\n",
       "</style>\n",
       "<table border=\"1\" class=\"dataframe\">\n",
       "  <thead>\n",
       "    <tr style=\"text-align: right;\">\n",
       "      <th></th>\n",
       "      <th>sizefeel</th>\n",
       "      <th>footwidthfeel</th>\n",
       "      <th>feeling</th>\n",
       "    </tr>\n",
       "    <tr>\n",
       "      <th>modelname</th>\n",
       "      <th></th>\n",
       "      <th></th>\n",
       "      <th></th>\n",
       "    </tr>\n",
       "  </thead>\n",
       "  <tbody>\n",
       "    <tr>\n",
       "      <th># 0224 / 슬립온블로퍼 / 블랙 / for men</th>\n",
       "      <td>0.0</td>\n",
       "      <td>0.0</td>\n",
       "      <td>0.0</td>\n",
       "    </tr>\n",
       "    <tr>\n",
       "      <th>#001 오리지널 남여공용 air slipple 5CM-블랙</th>\n",
       "      <td>0.0</td>\n",
       "      <td>0.0</td>\n",
       "      <td>1.0</td>\n",
       "    </tr>\n",
       "    <tr>\n",
       "      <th>#001 오리지널 남여공용 air slipple 5CM-블랙화이트</th>\n",
       "      <td>1.0</td>\n",
       "      <td>-1.0</td>\n",
       "      <td>1.0</td>\n",
       "    </tr>\n",
       "  </tbody>\n",
       "</table>\n",
       "</div>"
      ],
      "text/plain": [
       "                                      sizefeel  footwidthfeel  feeling\n",
       "modelname                                                             \n",
       "# 0224 / 슬립온블로퍼 / 블랙 / for men             0.0            0.0      0.0\n",
       "#001 오리지널 남여공용 air slipple 5CM-블랙          0.0            0.0      1.0\n",
       "#001 오리지널 남여공용 air slipple 5CM-블랙화이트       1.0           -1.0      1.0"
      ]
     },
     "execution_count": 110,
     "metadata": {},
     "output_type": "execute_result"
    }
   ],
   "source": [
    "musinsa_df.groupby('modelname').mean().head(3)"
   ]
  },
  {
   "cell_type": "code",
   "execution_count": 126,
   "metadata": {},
   "outputs": [],
   "source": [
    "musinsa_count = musinsa_df.groupby('modelname')['sizefeel'].count()"
   ]
  },
  {
   "cell_type": "code",
   "execution_count": 127,
   "metadata": {},
   "outputs": [
    {
     "data": {
      "text/plain": [
       "modelname\n",
       "# 0224 / 슬립온블로퍼 / 블랙 / for men          23\n",
       "#001 오리지널 남여공용 air slipple 5CM-블랙       11\n",
       "#001 오리지널 남여공용 air slipple 5CM-블랙화이트     5\n",
       "#001 오리지널 남여공용 air slipple 5CM-블루        5\n",
       "#002 오리지널 남여공용 에어샌들 블랙라벨 5CM-그레이        16\n",
       "                                        ..\n",
       "휠라자마(1GM01220920)                        6\n",
       "휠라자마(FS1SIB1263XGRY)                     4\n",
       "힙 (캔버스 블랙 스니커즈 11)                       1\n",
       "힙 (캔버스 화이트 스니커즈 91)                      8\n",
       "힙( 캔버스 스니커즈 51)                          4\n",
       "Name: sizefeel, Length: 7865, dtype: int64"
      ]
     },
     "execution_count": 127,
     "metadata": {},
     "output_type": "execute_result"
    }
   ],
   "source": [
    "musinsa_count"
   ]
  },
  {
   "cell_type": "markdown",
   "metadata": {},
   "source": [
    "## 정확성을 위해 5개 이하 리뷰를 가진 모델은 삭제"
   ]
  },
  {
   "cell_type": "code",
   "execution_count": 155,
   "metadata": {},
   "outputs": [],
   "source": [
    "def count_check(count):\n",
    "    if count < 6:\n",
    "        return count"
   ]
  },
  {
   "cell_type": "code",
   "execution_count": 156,
   "metadata": {},
   "outputs": [
    {
     "data": {
      "text/plain": [
       "7865"
      ]
     },
     "execution_count": 156,
     "metadata": {},
     "output_type": "execute_result"
    }
   ],
   "source": [
    "# 전체 모델\n",
    "drop_model_list = musinsa_count.apply(lambda x : count_check(x))\n",
    "len(drop_model_list)"
   ]
  },
  {
   "cell_type": "code",
   "execution_count": 157,
   "metadata": {},
   "outputs": [
    {
     "data": {
      "text/plain": [
       "4207"
      ]
     },
     "execution_count": 157,
     "metadata": {},
     "output_type": "execute_result"
    }
   ],
   "source": [
    "# 리뷰가 6개 이상인 리뷰\n",
    "drop_model_list.dropna(inplace=True)\n",
    "len(drop_model_list)"
   ]
  },
  {
   "cell_type": "code",
   "execution_count": 158,
   "metadata": {},
   "outputs": [
    {
     "data": {
      "text/plain": [
       "Index(['#001 오리지널 남여공용 air slipple 5CM-블랙화이트',\n",
       "       '#001 오리지널 남여공용 air slipple 5CM-블루',\n",
       "       '#002 오리지널 남여공용 에어샌들 블랙라벨 5CM-블랙화이트',\n",
       "       '#003 오리지널 남여공용 하이 에어샌들 블랙라벨 5CM-블랙화이트', '#0521 / 와일드 오버솔 페니로퍼 / 브라운'],\n",
       "      dtype='object', name='modelname')"
      ]
     },
     "execution_count": 158,
     "metadata": {},
     "output_type": "execute_result"
    }
   ],
   "source": [
    "aval_model_list = drop_model_list.index\n",
    "aval_model_list[:5]"
   ]
  },
  {
   "cell_type": "code",
   "execution_count": 159,
   "metadata": {},
   "outputs": [
    {
     "name": "stderr",
     "output_type": "stream",
     "text": [
      "100%|██████████████████████████████████████████████████████████████████████████████| 4207/4207 [05:45<00:00, 12.17it/s]\n"
     ]
    }
   ],
   "source": [
    "# 5개 미만 리뷰  \n",
    "from tqdm import tqdm \n",
    "for model in tqdm(aval_model_list):\n",
    "    musinsa_df.drop(musinsa_df.loc[musinsa_df['modelname']==model].index, inplace=True)"
   ]
  },
  {
   "cell_type": "code",
   "execution_count": 171,
   "metadata": {},
   "outputs": [
    {
     "name": "stdout",
     "output_type": "stream",
     "text": [
      "<class 'pandas.core.frame.DataFrame'>\n",
      "Int64Index: 518805 entries, 0 to 528352\n",
      "Data columns (total 5 columns):\n",
      " #   Column         Non-Null Count   Dtype \n",
      "---  ------         --------------   ----- \n",
      " 0   modelname      518805 non-null  object\n",
      " 1   sizefeel       518805 non-null  int64 \n",
      " 2   footwidthfeel  518805 non-null  int64 \n",
      " 3   feeling        518805 non-null  int64 \n",
      " 4   review         518805 non-null  object\n",
      "dtypes: int64(3), object(2)\n",
      "memory usage: 23.7+ MB\n"
     ]
    }
   ],
   "source": [
    "# 528348개 였는데 1만개 정도 삭제됨\n",
    "musinsa_df.info()"
   ]
  },
  {
   "cell_type": "code",
   "execution_count": null,
   "metadata": {},
   "outputs": [],
   "source": []
  }
 ],
 "metadata": {
  "kernelspec": {
   "display_name": "ml01-02",
   "language": "python",
   "name": "ml01-02"
  },
  "language_info": {
   "codemirror_mode": {
    "name": "ipython",
    "version": 3
   },
   "file_extension": ".py",
   "mimetype": "text/x-python",
   "name": "python",
   "nbconvert_exporter": "python",
   "pygments_lexer": "ipython3",
   "version": "3.7.7"
  }
 },
 "nbformat": 4,
 "nbformat_minor": 4
}
